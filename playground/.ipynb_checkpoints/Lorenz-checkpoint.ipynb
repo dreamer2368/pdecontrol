{
 "cells": [
  {
   "cell_type": "code",
   "execution_count": 40,
   "id": "f8e7f1a9",
   "metadata": {},
   "outputs": [],
   "source": [
    "import numpy as np\n",
    "import sympy as sp\n",
    "from sympy.diffgeom import Manifold, Patch, CoordSystem\n"
   ]
  },
  {
   "cell_type": "code",
   "execution_count": 52,
   "id": "dadb2021",
   "metadata": {},
   "outputs": [],
   "source": [
    "dim = 3\n",
    "udim = 1\n",
    "\n",
    "m = Manifold('M', dim)\n",
    "p = Patch('P', m)\n",
    "\n",
    "coordstr = 'x0'\n",
    "for d in range(1, dim):\n",
    "    coordstr += ' x%d' % d\n",
    "# xsym = sp.symbols(coordstr, real=True)\n",
    "# coord = CoordSystem('orig', p, xsym)\n",
    "# x = coord.base_scalars()\n",
    "# ex = coord.base_vectors()\n",
    "x = sp.symbols(coordstr, real=True)\n",
    "vx = sp.Matrix(x)\n",
    "\n",
    "u = []\n",
    "for d in range(udim):\n",
    "    u += [sp.symbols('u%d' % d, real=True)]\n",
    "\n",
    "# # g = [[sp.symbols('g%d%d' % (i, j), real=True) for j in range(udim)] for i in range(dim)]\n",
    "# g = [[] for i in range(dim)]\n",
    "# g[0] += [0]\n",
    "# g[1] += [0]\n",
    "# g[2] += [1]\n",
    "# from sympy.tensor.array import MutableDenseNDimArray\n",
    "# g = MutableDenseNDimArray(g)\n",
    "\n",
    "\n",
    "# x = coord.coord_functions()\n",
    "\n",
    "# f = [sp.symbols('f%d' % d, real=True) for d in range(dim)]"
   ]
  },
  {
   "cell_type": "code",
   "execution_count": 53,
   "id": "5b40e3a7",
   "metadata": {},
   "outputs": [
    {
     "data": {
      "text/latex": [
       "$\\displaystyle \\left[\\begin{matrix}- 10.0 x_{0} + 10.0 x_{1}\\\\x_{0} \\cdot \\left(28.0 - x_{2}\\right) - x_{1}\\\\x_{0} x_{1} - 2.66666666666667 x_{2}\\end{matrix}\\right]$"
      ],
      "text/plain": [
       "Matrix([\n",
       "[         -10.0*x0 + 10.0*x1],\n",
       "[        x0*(28.0 - x2) - x1],\n",
       "[x0*x1 - 2.66666666666667*x2]])"
      ]
     },
     "execution_count": 53,
     "metadata": {},
     "output_type": "execute_result"
    }
   ],
   "source": [
    "sig, beta, rho = 10., 8./3., 28.\n",
    "\n",
    "f = [[] for d in range(dim)]\n",
    "f[0] = sig * (x[1] - x[0])\n",
    "f[1] = x[0] * (rho - x[2]) - x[1]\n",
    "f[2] = x[0] * x[1] - beta * x[2]\n",
    "f = sp.Matrix(f)\n",
    "\n",
    "g = sp.Matrix([[0],[0],[1]])\n",
    "\n",
    "f"
   ]
  },
  {
   "cell_type": "code",
   "execution_count": 54,
   "id": "a460f4c9",
   "metadata": {},
   "outputs": [],
   "source": [
    "def LieBracket(f_, g_, vx_):\n",
    "    return g_.jacobian(vx_) * f_ - f_.jacobian(vx_) * g_"
   ]
  },
  {
   "cell_type": "code",
   "execution_count": 55,
   "id": "14f359cb",
   "metadata": {},
   "outputs": [
    {
     "data": {
      "text/latex": [
       "$\\displaystyle \\left[\\begin{matrix}0\\\\x_{0}\\\\2.66666666666667\\end{matrix}\\right]$"
      ],
      "text/plain": [
       "Matrix([\n",
       "[               0],\n",
       "[              x0],\n",
       "[2.66666666666667]])"
      ]
     },
     "execution_count": 55,
     "metadata": {},
     "output_type": "execute_result"
    }
   ],
   "source": [
    "LieBracket(f, g, x)"
   ]
  },
  {
   "cell_type": "code",
   "execution_count": 56,
   "id": "ed941528",
   "metadata": {},
   "outputs": [
    {
     "data": {
      "text/latex": [
       "$\\displaystyle \\left[\\begin{matrix}0 & 0 & - 10.0 x_{0}\\\\0 & x_{0} & - 6.33333333333333 x_{0} + 10.0 x_{1}\\\\1 & 2.66666666666667 & 7.11111111111111 - x_{0}^{2}\\end{matrix}\\right]$"
      ],
      "text/plain": [
       "Matrix([\n",
       "[0,                0,                       -10.0*x0],\n",
       "[0,               x0, -6.33333333333333*x0 + 10.0*x1],\n",
       "[1, 2.66666666666667,       7.11111111111111 - x0**2]])"
      ]
     },
     "execution_count": 56,
     "metadata": {},
     "output_type": "execute_result"
    }
   ],
   "source": [
    "from copy import deepcopy\n",
    "\n",
    "Cmat = sp.Matrix([])\n",
    "tmp = deepcopy(g)\n",
    "for d in range(dim):\n",
    "    Cmat = Cmat.col_insert(d, tmp)\n",
    "    tmp = LieBracket(f, tmp, vx)\n",
    "\n",
    "Cmat"
   ]
  },
  {
   "cell_type": "code",
   "execution_count": 60,
   "id": "91f3c704",
   "metadata": {},
   "outputs": [
    {
     "data": {
      "text/latex": [
       "$\\displaystyle \\left[\\begin{matrix}0 & 0 & 1\\\\0 & x_{0} & 2.66666666666667\\\\- 10.0 x_{0} & - 6.33333333333333 x_{0} + 10.0 x_{1} & 7.11111111111111 - x_{0}^{2}\\end{matrix}\\right]$"
      ],
      "text/plain": [
       "Matrix([\n",
       "[       0,                              0,                        1],\n",
       "[       0,                             x0,         2.66666666666667],\n",
       "[-10.0*x0, -6.33333333333333*x0 + 10.0*x1, 7.11111111111111 - x0**2]])"
      ]
     },
     "execution_count": 60,
     "metadata": {},
     "output_type": "execute_result"
    }
   ],
   "source": [
    "Cmat.transpose()"
   ]
  },
  {
   "cell_type": "code",
   "execution_count": 67,
   "id": "aef5ad4c",
   "metadata": {},
   "outputs": [],
   "source": [
    "def LieDerivative(f_, ld_, vx_):\n",
    "    return f_.dot(sp.diff(ld_, vx_))"
   ]
  },
  {
   "cell_type": "code",
   "execution_count": 68,
   "id": "6168c164",
   "metadata": {},
   "outputs": [
    {
     "data": {
      "text/latex": [
       "$\\displaystyle - 10.0 x_{0}$"
      ],
      "text/plain": [
       "-10.0*x0"
      ]
     },
     "execution_count": 68,
     "metadata": {},
     "output_type": "execute_result"
    }
   ],
   "source": [
    "ld = x[0]\n",
    "\n",
    "# from sympy.vector import Del\n",
    "# delop = Del()\n",
    "LieDerivative(Cmat.col(2), ld, vx)"
   ]
  },
  {
   "cell_type": "code",
   "execution_count": 72,
   "id": "80d1fda0",
   "metadata": {},
   "outputs": [
    {
     "data": {
      "text/latex": [
       "$\\displaystyle \\left[\\begin{matrix}x_{0}\\\\- 10.0 x_{0} + 10.0 x_{1}\\\\10.0 x_{0} \\cdot \\left(28.0 - x_{2}\\right) + 100.0 x_{0} - 110.0 x_{1}\\end{matrix}\\right]$"
      ],
      "text/plain": [
       "Matrix([\n",
       "[                                       x0],\n",
       "[                       -10.0*x0 + 10.0*x1],\n",
       "[10.0*x0*(28.0 - x2) + 100.0*x0 - 110.0*x1]])"
      ]
     },
     "execution_count": 72,
     "metadata": {},
     "output_type": "execute_result"
    }
   ],
   "source": [
    "xt = [deepcopy(ld)]\n",
    "for d in range(1, dim):\n",
    "    xt += [f.dot(sp.diff(xt[-1],vx))]\n",
    "xt = sp.Matrix(xt)\n",
    "xt"
   ]
  },
  {
   "cell_type": "code",
   "execution_count": 73,
   "id": "731dfb49",
   "metadata": {},
   "outputs": [
    {
     "data": {
      "text/latex": [
       "$\\displaystyle - 10.0 u_{0} x_{0} - 110.0 x_{0} \\cdot \\left(28.0 - x_{2}\\right) - 10.0 x_{0} \\left(x_{0} x_{1} - 2.66666666666667 x_{2}\\right) + 110.0 x_{1} + \\left(380.0 - 10.0 x_{2}\\right) \\left(- 10.0 x_{0} + 10.0 x_{1}\\right)$"
      ],
      "text/plain": [
       "-10.0*u0*x0 - 110.0*x0*(28.0 - x2) - 10.0*x0*(x0*x1 - 2.66666666666667*x2) + 110.0*x1 + (380.0 - 10.0*x2)*(-10.0*x0 + 10.0*x1)"
      ]
     },
     "execution_count": 73,
     "metadata": {},
     "output_type": "execute_result"
    }
   ],
   "source": [
    "v = LieDerivative(f, xt[-1], vx) + LieDerivative(g, xt[-1], vx) * u[0]\n",
    "v"
   ]
  }
 ],
 "metadata": {
  "kernelspec": {
   "display_name": "Python 3 (ipykernel)",
   "language": "python",
   "name": "python3"
  },
  "language_info": {
   "codemirror_mode": {
    "name": "ipython",
    "version": 3
   },
   "file_extension": ".py",
   "mimetype": "text/x-python",
   "name": "python",
   "nbconvert_exporter": "python",
   "pygments_lexer": "ipython3",
   "version": "3.10.10"
  }
 },
 "nbformat": 4,
 "nbformat_minor": 5
}
